{
 "cells": [
  {
   "cell_type": "code",
   "execution_count": 11,
   "id": "4e66ba9f",
   "metadata": {},
   "outputs": [],
   "source": [
    "import numpy as np\n",
    "import pandas as pd\n",
    "import ast\n",
    "import scipy\n",
    "from collections import defaultdict\n",
    "from implicit import bpr"
   ]
  },
  {
   "cell_type": "code",
   "execution_count": 12,
   "id": "9a433bf6",
   "metadata": {},
   "outputs": [],
   "source": [
    "anime = pd.read_csv('/Users/ericpark/Desktop/Anime_data/animes.csv')\n",
    "anime = anime.drop_duplicates(subset=['uid'])"
   ]
  },
  {
   "cell_type": "code",
   "execution_count": 13,
   "id": "b8e6eb3b",
   "metadata": {},
   "outputs": [],
   "source": [
    "reviews = pd.read_csv('/Users/ericpark/Desktop/Anime_data/reviews.csv')\n",
    "reviews = reviews.drop_duplicates(subset = ['uid','anime_uid'])\n",
    "profile_id_df = pd.DataFrame(reviews['profile'].unique()).reset_index().rename(columns={'index':'p_uid',0:'profile'})\n",
    "full_reviews = reviews.merge(profile_id_df, how='left',on='profile')\n",
    "data = full_reviews.to_dict('records')"
   ]
  },
  {
   "cell_type": "code",
   "execution_count": 14,
   "id": "f34f54d1",
   "metadata": {},
   "outputs": [],
   "source": [
    "userIDs, itemIDs = {},{}\n",
    "for d in data:\n",
    "    u, i  = d['p_uid'],d['anime_uid']\n",
    "    if not u in userIDs:\n",
    "        userIDs[u] = len(userIDs)\n",
    "    if not i in itemIDs:\n",
    "        itemIDs[i] = len(itemIDs)\n",
    "\n",
    "nUsers,nItems = len(userIDs),len(itemIDs)"
   ]
  },
  {
   "cell_type": "code",
   "execution_count": 15,
   "id": "e78aa446",
   "metadata": {},
   "outputs": [],
   "source": [
    "Xui = scipy.sparse.lil_matrix((nUsers, nItems))\n",
    "for d in data:\n",
    "    Xui[userIDs[d['p_uid']],itemIDs[d['anime_uid']]] = 1\n",
    "    \n",
    "Xui_csr = scipy.sparse.csr_matrix(Xui)"
   ]
  },
  {
   "cell_type": "code",
   "execution_count": 16,
   "id": "37234bd8",
   "metadata": {},
   "outputs": [],
   "source": [
    "data = full_reviews.to_dict('records')"
   ]
  },
  {
   "cell_type": "code",
   "execution_count": 17,
   "id": "830549c4",
   "metadata": {},
   "outputs": [],
   "source": [
    "model = bpr.BayesianPersonalizedRanking(factors = 5)"
   ]
  },
  {
   "cell_type": "code",
   "execution_count": 18,
   "id": "d09b9358",
   "metadata": {},
   "outputs": [
    {
     "data": {
      "application/vnd.jupyter.widget-view+json": {
       "model_id": "16da206dded5450c87d5ec37fb72fbf4",
       "version_major": 2,
       "version_minor": 0
      },
      "text/plain": [
       "  0%|          | 0/100 [00:00<?, ?it/s]"
      ]
     },
     "metadata": {},
     "output_type": "display_data"
    }
   ],
   "source": [
    "model.fit(Xui_csr)"
   ]
  },
  {
   "cell_type": "code",
   "execution_count": 19,
   "id": "f0011208",
   "metadata": {},
   "outputs": [],
   "source": [
    "recommended = model.recommend(0,Xui_csr[0])"
   ]
  },
  {
   "cell_type": "code",
   "execution_count": 20,
   "id": "2704875e",
   "metadata": {},
   "outputs": [
    {
     "data": {
      "text/plain": [
       "array([7480,  819,  350, 4382, 6960, 4480, 2445, 7635, 5754,   47],\n",
       "      dtype=int32)"
      ]
     },
     "execution_count": 20,
     "metadata": {},
     "output_type": "execute_result"
    }
   ],
   "source": [
    "recommended[0]"
   ]
  },
  {
   "cell_type": "code",
   "execution_count": 21,
   "id": "cee34d12",
   "metadata": {
    "scrolled": false
   },
   "outputs": [
    {
     "data": {
      "text/plain": [
       "470                                  Akira\n",
       "1995             Ryoujoku Guerrilla Kari 3\n",
       "2183                          Maple Colors\n",
       "14512        Boku wa Imouto ni Koi wo Suru\n",
       "16638                       Ojamajo Doremi\n",
       "16842    Suzumiya Haruhi no Yuuutsu (2009)\n",
       "Name: title, dtype: object"
      ]
     },
     "execution_count": 21,
     "metadata": {},
     "output_type": "execute_result"
    }
   ],
   "source": [
    "anime[anime['uid'].isin(recommended[0])]['title']"
   ]
  },
  {
   "cell_type": "code",
   "execution_count": 22,
   "id": "da3354c7",
   "metadata": {},
   "outputs": [],
   "source": [
    "def BPR_recommendation(username,model,anime):\n",
    "    name = profile_id_df[profile_id_df['profile']==username]\n",
    "    if len(name) == 0:\n",
    "        return \"Username not found\"\n",
    "    else:\n",
    "        user_id = name.index[0]\n",
    "        recommended = model.recommend(user_id,Xui_csr[user_id])\n",
    "        rec_ids = recommended[0]\n",
    "        anime_rec = anime[anime['uid'].isin(rec_ids)]\n",
    "        return anime_rec['title']\n",
    "        \n",
    "    "
   ]
  },
  {
   "cell_type": "code",
   "execution_count": 24,
   "id": "3a00f74d",
   "metadata": {},
   "outputs": [
    {
     "data": {
      "text/plain": [
       "370          Black Lagoon: Roberta's Blood Trail\n",
       "615      Rurouni Kenshin: Meiji Kenkaku Romantan\n",
       "6561                            Mahoutsukai Tai!\n",
       "13069                                Green Green\n",
       "14162                             Kite Liberator\n",
       "16148          Onegai☆Teacher: Himitsu na Futari\n",
       "17250                       Haja Taisei Dangaiou\n",
       "17876                             Galaxy Angel 4\n",
       "18755                Yu☆Gi☆Oh!: Duel Monsters GX\n",
       "Name: title, dtype: object"
      ]
     },
     "execution_count": 24,
     "metadata": {},
     "output_type": "execute_result"
    }
   ],
   "source": [
    "BPR_recommendation('skrn',model,anime)"
   ]
  }
 ],
 "metadata": {
  "kernelspec": {
   "display_name": "Python 3",
   "language": "python",
   "name": "python3"
  },
  "language_info": {
   "codemirror_mode": {
    "name": "ipython",
    "version": 3
   },
   "file_extension": ".py",
   "mimetype": "text/x-python",
   "name": "python",
   "nbconvert_exporter": "python",
   "pygments_lexer": "ipython3",
   "version": "3.8.8"
  }
 },
 "nbformat": 4,
 "nbformat_minor": 5
}
