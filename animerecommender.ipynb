{
 "cells": [
  {
   "cell_type": "code",
   "execution_count": 1,
   "id": "6c40be9c",
   "metadata": {},
   "outputs": [],
   "source": [
    "import numpy as np\n",
    "import pandas as pd\n",
    "import ast"
   ]
  },
  {
   "cell_type": "code",
   "execution_count": 2,
   "id": "65dcf173",
   "metadata": {},
   "outputs": [],
   "source": [
    "anime = pd.read_csv('/Users/ericpark/Desktop/animes.csv')\n",
    "anime = anime.drop_duplicates(subset=['uid'])"
   ]
  },
  {
   "cell_type": "code",
   "execution_count": 3,
   "id": "fd2a21e9",
   "metadata": {},
   "outputs": [],
   "source": [
    "anime = anime.drop(columns = ['synopsis','aired','episodes','members','popularity','ranked','score','img_url','link'])"
   ]
  },
  {
   "cell_type": "code",
   "execution_count": 4,
   "id": "bb820bb8",
   "metadata": {
    "scrolled": true
   },
   "outputs": [
    {
     "data": {
      "text/html": [
       "<div>\n",
       "<style scoped>\n",
       "    .dataframe tbody tr th:only-of-type {\n",
       "        vertical-align: middle;\n",
       "    }\n",
       "\n",
       "    .dataframe tbody tr th {\n",
       "        vertical-align: top;\n",
       "    }\n",
       "\n",
       "    .dataframe thead th {\n",
       "        text-align: right;\n",
       "    }\n",
       "</style>\n",
       "<table border=\"1\" class=\"dataframe\">\n",
       "  <thead>\n",
       "    <tr style=\"text-align: right;\">\n",
       "      <th></th>\n",
       "      <th>uid</th>\n",
       "      <th>title</th>\n",
       "      <th>genre</th>\n",
       "    </tr>\n",
       "  </thead>\n",
       "  <tbody>\n",
       "    <tr>\n",
       "      <th>0</th>\n",
       "      <td>28891</td>\n",
       "      <td>Haikyuu!! Second Season</td>\n",
       "      <td>['Comedy', 'Sports', 'Drama', 'School', 'Shoun...</td>\n",
       "    </tr>\n",
       "    <tr>\n",
       "      <th>1</th>\n",
       "      <td>23273</td>\n",
       "      <td>Shigatsu wa Kimi no Uso</td>\n",
       "      <td>['Drama', 'Music', 'Romance', 'School', 'Shoun...</td>\n",
       "    </tr>\n",
       "    <tr>\n",
       "      <th>2</th>\n",
       "      <td>34599</td>\n",
       "      <td>Made in Abyss</td>\n",
       "      <td>['Sci-Fi', 'Adventure', 'Mystery', 'Drama', 'F...</td>\n",
       "    </tr>\n",
       "    <tr>\n",
       "      <th>3</th>\n",
       "      <td>5114</td>\n",
       "      <td>Fullmetal Alchemist: Brotherhood</td>\n",
       "      <td>['Action', 'Military', 'Adventure', 'Comedy', ...</td>\n",
       "    </tr>\n",
       "    <tr>\n",
       "      <th>4</th>\n",
       "      <td>31758</td>\n",
       "      <td>Kizumonogatari III: Reiketsu-hen</td>\n",
       "      <td>['Action', 'Mystery', 'Supernatural', 'Vampire']</td>\n",
       "    </tr>\n",
       "    <tr>\n",
       "      <th>...</th>\n",
       "      <td>...</td>\n",
       "      <td>...</td>\n",
       "      <td>...</td>\n",
       "    </tr>\n",
       "    <tr>\n",
       "      <th>19002</th>\n",
       "      <td>10075</td>\n",
       "      <td>Naruto x UT</td>\n",
       "      <td>['Action', 'Comedy', 'Super Power', 'Martial A...</td>\n",
       "    </tr>\n",
       "    <tr>\n",
       "      <th>19003</th>\n",
       "      <td>35828</td>\n",
       "      <td>Miira no Kaikata</td>\n",
       "      <td>['Slice of Life', 'Comedy', 'Supernatural']</td>\n",
       "    </tr>\n",
       "    <tr>\n",
       "      <th>19004</th>\n",
       "      <td>10378</td>\n",
       "      <td>Shinryaku!? Ika Musume</td>\n",
       "      <td>['Slice of Life', 'Comedy', 'Shounen']</td>\n",
       "    </tr>\n",
       "    <tr>\n",
       "      <th>19005</th>\n",
       "      <td>33082</td>\n",
       "      <td>Kingsglaive: Final Fantasy XV</td>\n",
       "      <td>['Action']</td>\n",
       "    </tr>\n",
       "    <tr>\n",
       "      <th>19006</th>\n",
       "      <td>16934</td>\n",
       "      <td>Chuunibyou demo Koi ga Shitai!: Kirameki no......</td>\n",
       "      <td>['Comedy', 'Drama', 'Romance', 'School', 'Slic...</td>\n",
       "    </tr>\n",
       "  </tbody>\n",
       "</table>\n",
       "<p>16216 rows × 3 columns</p>\n",
       "</div>"
      ],
      "text/plain": [
       "         uid                                              title  \\\n",
       "0      28891                            Haikyuu!! Second Season   \n",
       "1      23273                            Shigatsu wa Kimi no Uso   \n",
       "2      34599                                      Made in Abyss   \n",
       "3       5114                   Fullmetal Alchemist: Brotherhood   \n",
       "4      31758                   Kizumonogatari III: Reiketsu-hen   \n",
       "...      ...                                                ...   \n",
       "19002  10075                                        Naruto x UT   \n",
       "19003  35828                                   Miira no Kaikata   \n",
       "19004  10378                             Shinryaku!? Ika Musume   \n",
       "19005  33082                      Kingsglaive: Final Fantasy XV   \n",
       "19006  16934  Chuunibyou demo Koi ga Shitai!: Kirameki no......   \n",
       "\n",
       "                                                   genre  \n",
       "0      ['Comedy', 'Sports', 'Drama', 'School', 'Shoun...  \n",
       "1      ['Drama', 'Music', 'Romance', 'School', 'Shoun...  \n",
       "2      ['Sci-Fi', 'Adventure', 'Mystery', 'Drama', 'F...  \n",
       "3      ['Action', 'Military', 'Adventure', 'Comedy', ...  \n",
       "4       ['Action', 'Mystery', 'Supernatural', 'Vampire']  \n",
       "...                                                  ...  \n",
       "19002  ['Action', 'Comedy', 'Super Power', 'Martial A...  \n",
       "19003        ['Slice of Life', 'Comedy', 'Supernatural']  \n",
       "19004             ['Slice of Life', 'Comedy', 'Shounen']  \n",
       "19005                                         ['Action']  \n",
       "19006  ['Comedy', 'Drama', 'Romance', 'School', 'Slic...  \n",
       "\n",
       "[16216 rows x 3 columns]"
      ]
     },
     "execution_count": 4,
     "metadata": {},
     "output_type": "execute_result"
    }
   ],
   "source": [
    "anime#[anime['uid']==28891]['genre']\n",
    "#YLIA 23273"
   ]
  },
  {
   "cell_type": "code",
   "execution_count": 5,
   "id": "a7132c50",
   "metadata": {},
   "outputs": [],
   "source": [
    "reviews = pd.read_csv('/Users/ericpark/Desktop/reviews.csv')"
   ]
  },
  {
   "cell_type": "code",
   "execution_count": 6,
   "id": "3449c46d",
   "metadata": {},
   "outputs": [],
   "source": [
    "reviews = reviews.drop_duplicates(subset=['uid'])\n",
    "reviews = reviews.drop(columns=['text','scores','link'])"
   ]
  },
  {
   "cell_type": "code",
   "execution_count": 7,
   "id": "21fde51e",
   "metadata": {},
   "outputs": [],
   "source": [
    "#reviews[reviews['profile']=='DesolatePsyche']\n",
    "#df.groupby(['Name','Type','ID']).count().reset_index()\n",
    "reviews = reviews.groupby(['profile','uid','anime_uid','score']).count().reset_index()"
   ]
  },
  {
   "cell_type": "code",
   "execution_count": 360,
   "id": "e7751aaa",
   "metadata": {},
   "outputs": [
    {
     "data": {
      "text/html": [
       "<div>\n",
       "<style scoped>\n",
       "    .dataframe tbody tr th:only-of-type {\n",
       "        vertical-align: middle;\n",
       "    }\n",
       "\n",
       "    .dataframe tbody tr th {\n",
       "        vertical-align: top;\n",
       "    }\n",
       "\n",
       "    .dataframe thead th {\n",
       "        text-align: right;\n",
       "    }\n",
       "</style>\n",
       "<table border=\"1\" class=\"dataframe\">\n",
       "  <thead>\n",
       "    <tr style=\"text-align: right;\">\n",
       "      <th></th>\n",
       "      <th>profile</th>\n",
       "      <th>uid</th>\n",
       "      <th>anime_uid</th>\n",
       "      <th>score</th>\n",
       "    </tr>\n",
       "  </thead>\n",
       "  <tbody>\n",
       "    <tr>\n",
       "      <th>0</th>\n",
       "      <td>-----noname-----</td>\n",
       "      <td>210287</td>\n",
       "      <td>18441</td>\n",
       "      <td>2</td>\n",
       "    </tr>\n",
       "    <tr>\n",
       "      <th>1</th>\n",
       "      <td>-----noname-----</td>\n",
       "      <td>221727</td>\n",
       "      <td>2025</td>\n",
       "      <td>4</td>\n",
       "    </tr>\n",
       "    <tr>\n",
       "      <th>2</th>\n",
       "      <td>---SnowFlake---</td>\n",
       "      <td>208633</td>\n",
       "      <td>1535</td>\n",
       "      <td>6</td>\n",
       "    </tr>\n",
       "    <tr>\n",
       "      <th>3</th>\n",
       "      <td>---was-----</td>\n",
       "      <td>79296</td>\n",
       "      <td>10110</td>\n",
       "      <td>8</td>\n",
       "    </tr>\n",
       "    <tr>\n",
       "      <th>4</th>\n",
       "      <td>--EYEPATCH--</td>\n",
       "      <td>274580</td>\n",
       "      <td>35839</td>\n",
       "      <td>10</td>\n",
       "    </tr>\n",
       "    <tr>\n",
       "      <th>...</th>\n",
       "      <td>...</td>\n",
       "      <td>...</td>\n",
       "      <td>...</td>\n",
       "      <td>...</td>\n",
       "    </tr>\n",
       "    <tr>\n",
       "      <th>130514</th>\n",
       "      <td>zzz-anime</td>\n",
       "      <td>319298</td>\n",
       "      <td>36882</td>\n",
       "      <td>2</td>\n",
       "    </tr>\n",
       "    <tr>\n",
       "      <th>130515</th>\n",
       "      <td>zzzb</td>\n",
       "      <td>272281</td>\n",
       "      <td>28761</td>\n",
       "      <td>8</td>\n",
       "    </tr>\n",
       "    <tr>\n",
       "      <th>130516</th>\n",
       "      <td>zzzjynne</td>\n",
       "      <td>322680</td>\n",
       "      <td>6675</td>\n",
       "      <td>7</td>\n",
       "    </tr>\n",
       "    <tr>\n",
       "      <th>130517</th>\n",
       "      <td>zzzjynne</td>\n",
       "      <td>322740</td>\n",
       "      <td>18679</td>\n",
       "      <td>8</td>\n",
       "    </tr>\n",
       "    <tr>\n",
       "      <th>130518</th>\n",
       "      <td>zzzzzzzz</td>\n",
       "      <td>36814</td>\n",
       "      <td>9756</td>\n",
       "      <td>10</td>\n",
       "    </tr>\n",
       "  </tbody>\n",
       "</table>\n",
       "<p>130519 rows × 4 columns</p>\n",
       "</div>"
      ],
      "text/plain": [
       "                 profile     uid  anime_uid  score\n",
       "0       -----noname-----  210287      18441      2\n",
       "1       -----noname-----  221727       2025      4\n",
       "2        ---SnowFlake---  208633       1535      6\n",
       "3            ---was-----   79296      10110      8\n",
       "4           --EYEPATCH--  274580      35839     10\n",
       "...                  ...     ...        ...    ...\n",
       "130514         zzz-anime  319298      36882      2\n",
       "130515              zzzb  272281      28761      8\n",
       "130516          zzzjynne  322680       6675      7\n",
       "130517          zzzjynne  322740      18679      8\n",
       "130518          zzzzzzzz   36814       9756     10\n",
       "\n",
       "[130519 rows x 4 columns]"
      ]
     },
     "execution_count": 360,
     "metadata": {},
     "output_type": "execute_result"
    }
   ],
   "source": [
    "reviews"
   ]
  },
  {
   "cell_type": "code",
   "execution_count": 8,
   "id": "9ab9b998",
   "metadata": {},
   "outputs": [],
   "source": [
    "def getUsersAbove8(anime_uid):#given animeid, return a list of users who scored the anime an 8 or above\n",
    "    anime = reviews[reviews['anime_uid']==anime_uid]\n",
    "    return anime[anime['score']>=8]['profile'].tolist()"
   ]
  },
  {
   "cell_type": "code",
   "execution_count": 9,
   "id": "9a9b5338",
   "metadata": {},
   "outputs": [],
   "source": [
    "def getAnimeListAbove8(username, uid):#given user, return a list of anime the user scored an 8 or above\n",
    "    user = reviews[reviews['profile']==username]\n",
    "    animelist=user[user['score']>=8]['anime_uid'].tolist()\n",
    "    animelist.remove(uid)\n",
    "    return animelist"
   ]
  },
  {
   "cell_type": "code",
   "execution_count": 10,
   "id": "398fc143",
   "metadata": {},
   "outputs": [],
   "source": [
    "def getUid(anime_title):\n",
    "    return anime[anime['title']==anime_title]['uid'].iloc[0]"
   ]
  },
  {
   "cell_type": "code",
   "execution_count": 11,
   "id": "754598ed",
   "metadata": {},
   "outputs": [],
   "source": [
    "def getGenre(anime_uid):\n",
    "    return ast.literal_eval(anime[anime['uid']==anime_uid]['genre'].iloc[0])"
   ]
  },
  {
   "cell_type": "code",
   "execution_count": 12,
   "id": "2813e4c9",
   "metadata": {},
   "outputs": [],
   "source": [
    "def getAnimeTitle(anime_uid):\n",
    "    return anime[anime['uid']==anime_uid]['title'].iloc[0]"
   ]
  },
  {
   "cell_type": "code",
   "execution_count": 13,
   "id": "bc866576",
   "metadata": {},
   "outputs": [],
   "source": [
    "def getRecommendations(anime_title):   \n",
    "    if (len(anime[anime['title']==anime_title])==0):#if it is not found\n",
    "        return \"Anime not found. Make sure it is spelled exactly how it appears\"\n",
    "    else:\n",
    "        #get uid\n",
    "        anime_uid = getUid(anime_title) #anime uid\n",
    "        #original anime genre\n",
    "        original_genre = getGenre(anime_uid) #list of genres for anime\n",
    "        #find users who scored anime an 8 or above\n",
    "        userlist = getUsersAbove8(anime_uid) #list of users who scored anime an 8 or above\n",
    "        #within those users, find all the anime they rated an 8 or above\n",
    "        animelist=[]\n",
    "        for i in userlist:\n",
    "            animelist.append(getAnimeListAbove8(i,anime_uid))\n",
    "        #filter down to anime with similar genre\n",
    "        final_list = []\n",
    "        for user in animelist:\n",
    "            for anime_user in user:\n",
    "                if(len(sorted(set(original_genre).intersection(getGenre(anime_user))))>1):#if they share more than 1 genre\n",
    "                    final_list.append(anime_user)\n",
    "        anime_df = pd.DataFrame(final_list,columns=['Anime_UID'])\n",
    "        anime_df.insert(1,\"Count\",1)\n",
    "        anime_df = anime_df.groupby(\"Anime_UID\").count().sort_values(by=['Count'],ascending=False)#df of top anime that match\n",
    "        anime_top10 = anime_df.index.values.tolist()[:10]#get top 10 by count\n",
    "        for i in anime_top10:\n",
    "            print(getAnimeTitle(i))"
   ]
  },
  {
   "cell_type": "code",
   "execution_count": 15,
   "id": "b29247af",
   "metadata": {},
   "outputs": [
    {
     "name": "stdout",
     "output_type": "stream",
     "text": [
      "Cowboy Bebop\n",
      "Clannad: After Story\n",
      "Fullmetal Alchemist\n",
      "Mahou Shoujo Madoka★Magica\n",
      "Tengen Toppa Gurren Lagann\n",
      "Code Geass: Hangyaku no Lelouch\n",
      "Baccano!\n",
      "Code Geass: Hangyaku no Lelouch R2\n",
      "Sen to Chihiro no Kamikakushi\n",
      "Boku no Hero Academia\n"
     ]
    }
   ],
   "source": [
    "getRecommendations(\"Fullmetal Alchemist: Brotherhood\")"
   ]
  },
  {
   "cell_type": "code",
   "execution_count": null,
   "id": "08f4d76e",
   "metadata": {},
   "outputs": [],
   "source": []
  }
 ],
 "metadata": {
  "kernelspec": {
   "display_name": "Python 3",
   "language": "python",
   "name": "python3"
  },
  "language_info": {
   "codemirror_mode": {
    "name": "ipython",
    "version": 3
   },
   "file_extension": ".py",
   "mimetype": "text/x-python",
   "name": "python",
   "nbconvert_exporter": "python",
   "pygments_lexer": "ipython3",
   "version": "3.8.8"
  }
 },
 "nbformat": 4,
 "nbformat_minor": 5
}
